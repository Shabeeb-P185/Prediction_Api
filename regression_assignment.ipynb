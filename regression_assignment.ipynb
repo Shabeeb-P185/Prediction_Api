{
 "cells": [
  {
   "cell_type": "code",
   "execution_count": 2,
   "id": "a24f2f64-f0de-4bd7-93e6-49ac1b3d0bbe",
   "metadata": {},
   "outputs": [
    {
     "name": "stdout",
     "output_type": "stream",
     "text": [
      "   Order ID Customer ID Warehouse ID  Customer Age Customer Gender  \\\n",
      "0         1     CUST966        WH004            65          Female   \n",
      "1         1     CUST966        WH004            65          Female   \n",
      "2         1     CUST966        WH004            65          Female   \n",
      "3         1     CUST966        WH004            65          Female   \n",
      "4         1     CUST966        WH004            65          Female   \n",
      "\n",
      "         Date   Product ID   SKU ID           Category  Quantity  \\\n",
      "0  2023-03-04  Product_110  SKU_291  Health & Wellness         4   \n",
      "1  2023-03-04  Product_142  SKU_005  Health & Wellness         5   \n",
      "2  2023-03-04  Product_197  SKU_151        Electronics         2   \n",
      "3  2023-03-04  Product_195  SKU_945  Fashion & Apparel         1   \n",
      "4  2023-03-04  Product_110  SKU_333  Health & Wellness         5   \n",
      "\n",
      "   Price per Unit  \n",
      "0          527.06  \n",
      "1          847.13  \n",
      "2          214.60  \n",
      "3          513.50  \n",
      "4          436.15  \n"
     ]
    }
   ],
   "source": [
    "import pandas as pd\n",
    "import numpy as np\n",
    "import seaborn as sns\n",
    "import matplotlib.pyplot as plt\n",
    "\n",
    "\n",
    "\n",
    "df1 = pd.read_csv(r'C:\\Users\\User\\Downloads\\order_info.csv')\n",
    "df2=pd.read_csv(r'C:\\Users\\User\\Downloads\\order_line.csv')\n",
    "\n",
    "mrg=pd.merge(df1,df2,on='Order ID', how='inner')\n",
    "print(mrg.head())"
   ]
  },
  {
   "cell_type": "code",
   "execution_count": null,
   "id": "f8fa3f40-8038-44a0-a034-97e01402ab0a",
   "metadata": {},
   "outputs": [
    {
     "name": "stdout",
     "output_type": "stream",
     "text": [
      "['CUST966' 'CUST952' 'CUST987' 'CUST415' 'CUST160' 'CUST162' 'CUST737'\n",
      " 'CUST948' 'CUST116' 'CUST298' 'CUST622' 'CUST148' 'CUST409' 'CUST426'\n",
      " 'CUST377' 'CUST625' 'CUST429' 'CUST442' 'CUST453' 'CUST509' 'CUST816'\n",
      " 'CUST296' 'CUST872' 'CUST915' 'CUST919' 'CUST902' 'CUST341' 'CUST362'\n",
      " 'CUST123' 'CUST394' 'CUST353' 'CUST539' 'CUST203' 'CUST051' 'CUST986'\n",
      " 'CUST324' 'CUST501' 'CUST135' 'CUST332' 'CUST256' 'CUST478' 'CUST466'\n",
      " 'CUST554' 'CUST122' 'CUST474' 'CUST076' 'CUST873' 'CUST357' 'CUST234'\n",
      " 'CUST019' 'CUST315' 'CUST784' 'CUST165' 'CUST263' 'CUST776' 'CUST087'\n",
      " 'CUST563' 'CUST771' 'CUST727' 'CUST016' 'CUST385' 'CUST118' 'CUST780'\n",
      " 'CUST023' 'CUST103' 'CUST679' 'CUST175' 'CUST594' 'CUST342' 'CUST367'\n",
      " 'CUST449' 'CUST806' 'CUST414' 'CUST877' 'CUST658' 'CUST117' 'CUST859'\n",
      " 'CUST171' 'CUST316' 'CUST244' 'CUST399' 'CUST886' 'CUST558' 'CUST958'\n",
      " 'CUST480' 'CUST655' 'CUST722' 'CUST151' 'CUST956' 'CUST010' 'CUST835'\n",
      " 'CUST272' 'CUST493' 'CUST852' 'CUST086' 'CUST927' 'CUST071' 'CUST959'\n",
      " 'CUST130' 'CUST753' 'CUST644' 'CUST232' 'CUST301' 'CUST422' 'CUST729'\n",
      " 'CUST209' 'CUST026' 'CUST323' 'CUST503' 'CUST947' 'CUST638' 'CUST699'\n",
      " 'CUST105' 'CUST052' 'CUST592' 'CUST586' 'CUST080' 'CUST870' 'CUST797'\n",
      " 'CUST476' 'CUST868' 'CUST278' 'CUST099' 'CUST068' 'CUST796' 'CUST907'\n",
      " 'CUST268' 'CUST642' 'CUST527' 'CUST383' 'CUST858' 'CUST001' 'CUST261'\n",
      " 'CUST082' 'CUST486' 'CUST815' 'CUST838' 'CUST454' 'CUST174' 'CUST610'\n",
      " 'CUST373' 'CUST137' 'CUST924' 'CUST077' 'CUST613' 'CUST267' 'CUST194'\n",
      " 'CUST768' 'CUST191' 'CUST246' 'CUST969' 'CUST490' 'CUST976' 'CUST069'\n",
      " 'CUST405' 'CUST472' 'CUST627' 'CUST238' 'CUST484' 'CUST725' 'CUST630'\n",
      " 'CUST874' 'CUST940' 'CUST177' 'CUST675' 'CUST645' 'CUST681' 'CUST251'\n",
      " 'CUST368' 'CUST280' 'CUST980' 'CUST626' 'CUST233' 'CUST495' 'CUST093'\n",
      " 'CUST393' 'CUST345' 'CUST491' 'CUST557' 'CUST887' 'CUST695' 'CUST773'\n",
      " 'CUST823' 'CUST693' 'CUST146' 'CUST221' 'CUST008' 'CUST464' 'CUST818'\n",
      " 'CUST392' 'CUST573' 'CUST126' 'CUST390' 'CUST448' 'CUST200' 'CUST916'\n",
      " 'CUST666' 'CUST227' 'CUST547' 'CUST767' 'CUST640' 'CUST397' 'CUST677'\n",
      " 'CUST504' 'CUST526' 'CUST920' 'CUST438' 'CUST217' 'CUST468' 'CUST628'\n",
      " 'CUST396' 'CUST439' 'CUST002' 'CUST805' 'CUST097' 'CUST143' 'CUST798'\n",
      " 'CUST551' 'CUST274' 'CUST451' 'CUST790' 'CUST369' 'CUST691' 'CUST988'\n",
      " 'CUST761' 'CUST999' 'CUST507' 'CUST843' 'CUST279' 'CUST330' 'CUST930'\n",
      " 'CUST954' 'CUST297' 'CUST577' 'CUST469' 'CUST973' 'CUST744' 'CUST706'\n",
      " 'CUST032' 'CUST641' 'CUST333' 'CUST525' 'CUST752' 'CUST492' 'CUST417'\n",
      " 'CUST266' 'CUST779' 'CUST578' 'CUST881' 'CUST989' 'CUST611' 'CUST705'\n",
      " 'CUST854' 'CUST079' 'CUST842' 'CUST150' 'CUST837' 'CUST061' 'CUST792'\n",
      " 'CUST276' 'CUST975' 'CUST314' 'CUST942' 'CUST532' 'CUST115' 'CUST584'\n",
      " 'CUST555' 'CUST799' 'CUST662' 'CUST095' 'CUST497' 'CUST606' 'CUST344'\n",
      " 'CUST813' 'CUST597' 'CUST215' 'CUST462' 'CUST356' 'CUST769' 'CUST299'\n",
      " 'CUST247' 'CUST125' 'CUST990' 'CUST144' 'CUST624' 'CUST308' 'CUST529'\n",
      " 'CUST374' 'CUST440' 'CUST180' 'CUST092' 'CUST692' 'CUST049' 'CUST456'\n",
      " 'CUST075' 'CUST142' 'CUST786' 'CUST758' 'CUST243' 'CUST863' 'CUST914'\n",
      " 'CUST358' 'CUST294' 'CUST749' 'CUST983' 'CUST307' 'CUST607' 'CUST434'\n",
      " 'CUST564' 'CUST176' 'CUST867' 'CUST656' 'CUST789' 'CUST711' 'CUST861'\n",
      " 'CUST127' 'CUST515' 'CUST348' 'CUST386' 'CUST197' 'CUST091' 'CUST318'\n",
      " 'CUST833' 'CUST404' 'CUST857' 'CUST136' 'CUST917' 'CUST528' 'CUST025'\n",
      " 'CUST680' 'CUST892' 'CUST775' 'CUST911' 'CUST379' 'CUST906' 'CUST678'\n",
      " 'CUST056' 'CUST402' 'CUST183' 'CUST300' 'CUST614' 'CUST900' 'CUST007'\n",
      " 'CUST477' 'CUST303' 'CUST325' 'CUST045' 'CUST284' 'CUST965' 'CUST037'\n",
      " 'CUST506' 'CUST774' 'CUST968' 'CUST580' 'CUST667' 'CUST891' 'CUST473'\n",
      " 'CUST720' 'CUST566' 'CUST313' 'CUST847' 'CUST317' 'CUST912' 'CUST070'\n",
      " 'CUST542' 'CUST741' 'CUST423' 'CUST812' 'CUST340' 'CUST169' 'CUST329'\n",
      " 'CUST188' 'CUST035' 'CUST024' 'CUST017' 'CUST443' 'CUST306' 'CUST839'\n",
      " 'CUST882' 'CUST850' 'CUST352' 'CUST587' 'CUST033' 'CUST602' 'CUST901'\n",
      " 'CUST281' 'CUST548' 'CUST553' 'CUST406' 'CUST488' 'CUST971' 'CUST382'\n",
      " 'CUST458' 'CUST897' 'CUST479' 'CUST295' 'CUST832' 'CUST718' 'CUST998'\n",
      " 'CUST072' 'CUST619' 'CUST063' 'CUST889' 'CUST951' 'CUST158' 'CUST248'\n",
      " 'CUST899' 'CUST320' 'CUST995' 'CUST041' 'CUST913' 'CUST760' 'CUST110'\n",
      " 'CUST090' 'CUST241' 'CUST351' 'CUST936' 'CUST496' 'CUST074' 'CUST285'\n",
      " 'CUST350' 'CUST766' 'CUST481' 'CUST803' 'CUST391' 'CUST590' 'CUST991'\n",
      " 'CUST384' 'CUST682' 'CUST828' 'CUST855' 'CUST073' 'CUST939' 'CUST918'\n",
      " 'CUST047' 'CUST738' 'CUST700' 'CUST634' 'CUST113' 'CUST782' 'CUST109'\n",
      " 'CUST219' 'CUST903' 'CUST269' 'CUST596' 'CUST671' 'CUST319' 'CUST489'\n",
      " 'CUST686' 'CUST763' 'CUST834' 'CUST408' 'CUST124' 'CUST864' 'CUST568'\n",
      " 'CUST271' 'CUST950' 'CUST674' 'CUST416' 'CUST572' 'CUST360' 'CUST561'\n",
      " 'CUST615' 'CUST575' 'CUST309' 'CUST657' 'CUST581' 'CUST849' 'CUST895'\n",
      " 'CUST672' 'CUST841' 'CUST931' 'CUST447' 'CUST460' 'CUST668' 'CUST894'\n",
      " 'CUST785' 'CUST359' 'CUST537' 'CUST138' 'CUST992' 'CUST220' 'CUST114'\n",
      " 'CUST229' 'CUST935' 'CUST141' 'CUST617' 'CUST038' 'CUST512' 'CUST470'\n",
      " 'CUST531' 'CUST252' 'CUST545' 'CUST746' 'CUST249' 'CUST111' 'CUST428'\n",
      " 'CUST905' 'CUST569' 'CUST904' 'CUST898' 'CUST684' 'CUST802' 'CUST355'\n",
      " 'CUST735' 'CUST264' 'CUST089' 'CUST022' 'CUST471' 'CUST676' 'CUST505'\n",
      " 'CUST697' 'CUST885' 'CUST804' 'CUST652' 'CUST339' 'CUST305' 'CUST042'\n",
      " 'CUST011' 'CUST836' 'CUST845' 'CUST516' 'CUST600' 'CUST517' 'CUST212'\n",
      " 'CUST781' 'CUST265' 'CUST066' 'CUST736' 'CUST826' 'CUST270' 'CUST550'\n",
      " 'CUST522' 'CUST078' 'CUST418' 'CUST009' 'CUST523' 'CUST346' 'CUST289'\n",
      " 'CUST535' 'CUST193' 'CUST579' 'CUST239' 'CUST646' 'CUST081' 'CUST364'\n",
      " 'CUST098' 'CUST134' 'CUST199' 'CUST593' 'CUST132' 'CUST291' 'CUST921'\n",
      " 'CUST808' 'CUST683' 'CUST225' 'CUST164' 'CUST981' 'CUST840' 'CUST730'\n",
      " 'CUST292' 'CUST184' 'CUST185' 'CUST420' 'CUST326' 'CUST726' 'CUST955'\n",
      " 'CUST791' 'CUST1000' 'CUST643' 'CUST751' 'CUST829' 'CUST446' 'CUST370'\n",
      " 'CUST039' 'CUST844' 'CUST455' 'CUST926' 'CUST015' 'CUST173' 'CUST890'\n",
      " 'CUST498' 'CUST601' 'CUST649' 'CUST096' 'CUST875' 'CUST605' 'CUST825'\n",
      " 'CUST003' 'CUST716' 'CUST757' 'CUST401' 'CUST719' 'CUST412' 'CUST819'\n",
      " 'CUST029' 'CUST636' 'CUST088' 'CUST322' 'CUST129' 'CUST721' 'CUST214'\n",
      " 'CUST591' 'CUST128' 'CUST571' 'CUST328' 'CUST533' 'CUST168' 'CUST599'\n",
      " 'CUST147' 'CUST715' 'CUST288' 'CUST707' 'CUST876' 'CUST237' 'CUST632'\n",
      " 'CUST500' 'CUST880' 'CUST067' 'CUST181' 'CUST524' 'CUST970' 'CUST589'\n",
      " 'CUST851' 'CUST218' 'CUST922' 'CUST260' 'CUST664' 'CUST058' 'CUST552'\n",
      " 'CUST620' 'CUST588' 'CUST949' 'CUST310' 'CUST304' 'CUST821' 'CUST398'\n",
      " 'CUST647' 'CUST102' 'CUST521' 'CUST609' 'CUST240' 'CUST997' 'CUST964'\n",
      " 'CUST228' 'CUST335' 'CUST230' 'CUST257' 'CUST400' 'CUST336' 'CUST544'\n",
      " 'CUST862' 'CUST651' 'CUST689' 'CUST036' 'CUST585' 'CUST485' 'CUST978'\n",
      " 'CUST884' 'CUST888' 'CUST559' 'CUST934' 'CUST598' 'CUST189' 'CUST698'\n",
      " 'CUST687' 'CUST865' 'CUST021' 'CUST616' 'CUST461' 'CUST846' 'CUST860'\n",
      " 'CUST030' 'CUST977' 'CUST618' 'CUST413' 'CUST933' 'CUST866' 'CUST943'\n",
      " 'CUST216' 'CUST740' 'CUST663' 'CUST139' 'CUST337' 'CUST728' 'CUST444'\n",
      " 'CUST494' 'CUST810' 'CUST723' 'CUST783' 'CUST376' 'CUST059' 'CUST053'\n",
      " 'CUST793' 'CUST282' 'CUST085' 'CUST759' 'CUST560' 'CUST795' 'CUST005'\n",
      " 'CUST574' 'CUST186' 'CUST800' 'CUST743' 'CUST435' 'CUST287' 'CUST824'\n",
      " 'CUST809' 'CUST788' 'CUST709' 'CUST152' 'CUST604' 'CUST817' 'CUST334'\n",
      " 'CUST570' 'CUST120' 'CUST925' 'CUST381' 'CUST996' 'CUST034' 'CUST235'\n",
      " 'CUST648' 'CUST403' 'CUST421' 'CUST487' 'CUST629' 'CUST236' 'CUST378'\n",
      " 'CUST046' 'CUST459' 'CUST703' 'CUST253' 'CUST962' 'CUST427' 'CUST502'\n",
      " 'CUST732' 'CUST273' 'CUST363' 'CUST482' 'CUST742' 'CUST206' 'CUST425'\n",
      " 'CUST654' 'CUST562' 'CUST131' 'CUST513' 'CUST690' 'CUST878' 'CUST250'\n",
      " 'CUST430' 'CUST747' 'CUST724' 'CUST207' 'CUST155' 'CUST290' 'CUST013'\n",
      " 'CUST259' 'CUST702' 'CUST713' 'CUST565' 'CUST777' 'CUST820' 'CUST710'\n",
      " 'CUST853' 'CUST223' 'CUST483' 'CUST172' 'CUST331' 'CUST161' 'CUST465'\n",
      " 'CUST659' 'CUST582' 'CUST437' 'CUST520' 'CUST595' 'CUST431' 'CUST985'\n",
      " 'CUST770' 'CUST660' 'CUST187' 'CUST192' 'CUST755' 'CUST869' 'CUST984'\n",
      " 'CUST371' 'CUST311' 'CUST014' 'CUST827' 'CUST871' 'CUST801' 'CUST018'\n",
      " 'CUST756' 'CUST822' 'CUST140' 'CUST204' 'CUST670' 'CUST748' 'CUST157'\n",
      " 'CUST255' 'CUST540' 'CUST226' 'CUST027' 'CUST772' 'CUST961' 'CUST040'\n",
      " 'CUST612' 'CUST108' 'CUST452' 'CUST057' 'CUST044' 'CUST445' 'CUST712'\n",
      " 'CUST807' 'CUST094' 'CUST020' 'CUST159' 'CUST937' 'CUST830' 'CUST734'\n",
      " 'CUST708' 'CUST944' 'CUST518' 'CUST104' 'CUST198' 'CUST050' 'CUST739'\n",
      " 'CUST908' 'CUST957' 'CUST856' 'CUST650' 'CUST929' 'CUST953' 'CUST119'\n",
      " 'CUST896' 'CUST262' 'CUST201' 'CUST972' 'CUST354' 'CUST508' 'CUST065'\n",
      " 'CUST338' 'CUST060' 'CUST083' 'CUST910' 'CUST665' 'CUST717' 'CUST982'\n",
      " 'CUST196' 'CUST064' 'CUST054' 'CUST387' 'CUST764' 'CUST084' 'CUST639'\n",
      " 'CUST028' 'CUST245' 'CUST576' 'CUST145' 'CUST375' 'CUST231' 'CUST541'\n",
      " 'CUST704' 'CUST549' 'CUST031' 'CUST433' 'CUST179' 'CUST286' 'CUST411'\n",
      " 'CUST055' 'CUST583' 'CUST293' 'CUST714' 'CUST277' 'CUST909' 'CUST883'\n",
      " 'CUST941' 'CUST388' 'CUST967' 'CUST701' 'CUST463' 'CUST635' 'CUST467'\n",
      " 'CUST694' 'CUST112' 'CUST441' 'CUST242' 'CUST202' 'CUST163' 'CUST224'\n",
      " 'CUST814' 'CUST631' 'CUST538' 'CUST107' 'CUST848' 'CUST534' 'CUST669'\n",
      " 'CUST436' 'CUST205' 'CUST312' 'CUST745' 'CUST170' 'CUST182' 'CUST762'\n",
      " 'CUST432' 'CUST945' 'CUST932' 'CUST419' 'CUST258' 'CUST302' 'CUST787'\n",
      " 'CUST754' 'CUST673' 'CUST321' 'CUST149' 'CUST365' 'CUST960' 'CUST750'\n",
      " 'CUST623' 'CUST536' 'CUST106' 'CUST178' 'CUST380' 'CUST974' 'CUST121'\n",
      " 'CUST195' 'CUST637' 'CUST731' 'CUST893' 'CUST211' 'CUST608' 'CUST696'\n",
      " 'CUST361' 'CUST407' 'CUST963' 'CUST661' 'CUST283' 'CUST062' 'CUST133'\n",
      " 'CUST546' 'CUST993' 'CUST923' 'CUST511' 'CUST347' 'CUST514' 'CUST450'\n",
      " 'CUST156' 'CUST190' 'CUST530' 'CUST101' 'CUST208' 'CUST556' 'CUST603'\n",
      " 'CUST395' 'CUST343' 'CUST048' 'CUST457' 'CUST275' 'CUST424' 'CUST213'\n",
      " 'CUST004' 'CUST153' 'CUST254' 'CUST499' 'CUST210' 'CUST167' 'CUST733'\n",
      " 'CUST653' 'CUST938' 'CUST567' 'CUST327' 'CUST475' 'CUST519' 'CUST154'\n",
      " 'CUST928' 'CUST012' 'CUST685' 'CUST043' 'CUST166' 'CUST794' 'CUST811'\n",
      " 'CUST688' 'CUST410' 'CUST100' 'CUST633' 'CUST510' 'CUST372' 'CUST946'\n",
      " 'CUST222' 'CUST765' 'CUST831' 'CUST366' 'CUST979' 'CUST994' 'CUST006'\n",
      " 'CUST879' 'CUST349' 'CUST389' 'CUST621' 'CUST543' 'CUST778']\n"
     ]
    }
   ],
   "source": [
    "mrg['Customer ID'].unique()\n"
   ]
  },
  {
   "cell_type": "code",
   "execution_count": 4,
   "id": "29ce4a70-ba4a-4458-bbbf-a1691b86b617",
   "metadata": {},
   "outputs": [
    {
     "name": "stdout",
     "output_type": "stream",
     "text": [
      "1000\n"
     ]
    }
   ],
   "source": [
    "count_unique=mrg['Customer ID'].nunique()\n",
    "print(count_unique)"
   ]
  },
  {
   "cell_type": "code",
   "execution_count": 5,
   "id": "e185140c-dbe8-4828-a113-1c1e9736d02f",
   "metadata": {},
   "outputs": [
    {
     "name": "stdout",
     "output_type": "stream",
     "text": [
      "   Customer ID\n",
      "0      CUST966\n",
      "9      CUST952\n",
      "10     CUST987\n",
      "15     CUST415\n",
      "23     CUST160\n"
     ]
    }
   ],
   "source": [
    "unique_customers_df = mrg[['Customer ID']].drop_duplicates()\n",
    "print(unique_customers_df.head())"
   ]
  },
  {
   "cell_type": "code",
   "execution_count": 6,
   "id": "347ff803-458e-45ae-9d78-04ba09506f9b",
   "metadata": {},
   "outputs": [
    {
     "name": "stdout",
     "output_type": "stream",
     "text": [
      "   Order ID Customer ID Warehouse ID  Customer Age Customer Gender  \\\n",
      "0         1     CUST966        WH004            65          Female   \n",
      "1         1     CUST966        WH004            65          Female   \n",
      "2         1     CUST966        WH004            65          Female   \n",
      "3         1     CUST966        WH004            65          Female   \n",
      "4         1     CUST966        WH004            65          Female   \n",
      "\n",
      "         Date   Product ID   SKU ID           Category  Quantity  \\\n",
      "0  2023-03-04  Product_110  SKU_291  Health & Wellness         4   \n",
      "1  2023-03-04  Product_142  SKU_005  Health & Wellness         5   \n",
      "2  2023-03-04  Product_197  SKU_151        Electronics         2   \n",
      "3  2023-03-04  Product_195  SKU_945  Fashion & Apparel         1   \n",
      "4  2023-03-04  Product_110  SKU_333  Health & Wellness         5   \n",
      "\n",
      "   Price per Unit  order_value  \n",
      "0          527.06      2108.24  \n",
      "1          847.13      4235.65  \n",
      "2          214.60       429.20  \n",
      "3          513.50       513.50  \n",
      "4          436.15      2180.75  \n"
     ]
    }
   ],
   "source": [
    "df=mrg.copy()\n",
    "df['order_value'] = df['Quantity'] * df['Price per Unit']\n",
    "print(df.head())"
   ]
  },
  {
   "cell_type": "code",
   "execution_count": 7,
   "id": "ab96ad0a-855f-4f29-ac59-a66f4ebd443f",
   "metadata": {},
   "outputs": [
    {
     "name": "stdout",
     "output_type": "stream",
     "text": [
      "Customer ID\n",
      "CUST001    1348.963721\n",
      "CUST002    1353.771034\n",
      "CUST003    1187.813929\n",
      "CUST004    1382.176667\n",
      "CUST005    1526.746667\n",
      "              ...     \n",
      "CUST995    1498.250769\n",
      "CUST996    1559.702000\n",
      "CUST997    1521.431957\n",
      "CUST998    1255.387241\n",
      "CUST999    1442.328182\n",
      "Name: order_value, Length: 1000, dtype: float64\n"
     ]
    }
   ],
   "source": [
    "average_order_value = df.groupby('Customer ID')['order_value'].mean()\n",
    "\n",
    "print(average_order_value)"
   ]
  },
  {
   "cell_type": "code",
   "execution_count": 8,
   "id": "cb47e9b9-5be0-4fa2-a9db-8f3d3848c52f",
   "metadata": {},
   "outputs": [
    {
     "name": "stdout",
     "output_type": "stream",
     "text": [
      "  Customer ID  Average Order Value\n",
      "0     CUST001          1348.963721\n",
      "1     CUST002          1353.771034\n",
      "2     CUST003          1187.813929\n",
      "3     CUST004          1382.176667\n",
      "4     CUST005          1526.746667\n"
     ]
    }
   ],
   "source": [
    "# Group by Customer ID and calculate average order_value\n",
    "avg_order_value_per_customer = df.groupby('Customer ID', as_index=False)['order_value'].mean()\n",
    "\n",
    "# Rename the column\n",
    "avg_order_value_per_customer.rename(columns={'order_value': 'Average Order Value'}, inplace=True)\n",
    "\n",
    "# Display the result\n",
    "print(avg_order_value_per_customer.head())"
   ]
  },
  {
   "cell_type": "code",
   "execution_count": 9,
   "id": "ff8ff4ff-8d50-4cc9-a894-f57cbb41f524",
   "metadata": {},
   "outputs": [
    {
     "name": "stdout",
     "output_type": "stream",
     "text": [
      "    Customer ID  Average Order Value\n",
      "995     CUST995          1498.250769\n",
      "996     CUST996          1559.702000\n",
      "997     CUST997          1521.431957\n",
      "998     CUST998          1255.387241\n",
      "999     CUST999          1442.328182\n"
     ]
    }
   ],
   "source": [
    "print(avg_order_value_per_customer.tail())"
   ]
  },
  {
   "cell_type": "code",
   "execution_count": 10,
   "id": "b99cc644-0d46-4b09-a98c-3b919d832d75",
   "metadata": {},
   "outputs": [
    {
     "name": "stdout",
     "output_type": "stream",
     "text": [
      "  Customer ID  Average Order Value  Customer Age Customer Gender\n",
      "0     CUST001          1348.963721            24          Female\n",
      "1     CUST002          1353.771034            35          Female\n",
      "2     CUST003          1187.813929            26            Male\n",
      "3     CUST004          1382.176667            25            Male\n",
      "4     CUST005          1526.746667            29          Female\n"
     ]
    }
   ],
   "source": [
    "#  Group by Customer ID and calculate average order_value\n",
    "avg_order_value = df.groupby('Customer ID', as_index=False)['order_value'].mean()\n",
    "avg_order_value.rename(columns={'order_value': 'Average Order Value'}, inplace=True)\n",
    "\n",
    "#  Get unique age and gender per customer (assuming they are constant per customer)\n",
    "customer_info = df[['Customer ID', 'Customer Age', 'Customer Gender']].drop_duplicates(subset='Customer ID')\n",
    "\n",
    "#  Merge average order value with customer info\n",
    "merged_df = pd.merge(avg_order_value, customer_info, on='Customer ID', how='left')\n",
    "\n",
    "# Display result\n",
    "print(merged_df.head())"
   ]
  },
  {
   "cell_type": "code",
   "execution_count": 11,
   "id": "8abca697-4cc3-492a-a5e5-887e6ea4cecb",
   "metadata": {},
   "outputs": [
    {
     "name": "stdout",
     "output_type": "stream",
     "text": [
      "   Average Order Value  Customer Age Customer Gender\n",
      "0          1348.963721            24          Female\n",
      "1          1353.771034            35          Female\n",
      "2          1187.813929            26            Male\n",
      "3          1382.176667            25            Male\n",
      "4          1526.746667            29          Female\n"
     ]
    }
   ],
   "source": [
    "# Remove 'Customer ID' and 'Average Order Value' columns\n",
    "merged_df = merged_df.drop(columns=['Customer ID'])\n",
    "\n",
    "# Display the updated DataFrame\n",
    "print(merged_df.head())"
   ]
  },
  {
   "cell_type": "code",
   "execution_count": 12,
   "id": "eba2c347-7092-4fe2-86c9-211309123ca5",
   "metadata": {},
   "outputs": [
    {
     "name": "stdout",
     "output_type": "stream",
     "text": [
      "   Customer Age Customer Gender  Average Order Value\n",
      "0            18          Female          1314.141212\n",
      "1            18            Male          1477.796747\n",
      "2            19          Female          1415.048526\n",
      "3            19            Male          1354.856382\n",
      "4            20          Female          1445.373151\n"
     ]
    }
   ],
   "source": [
    "# Group by Customer Age and Customer Gender\n",
    "grouped_avg = merged_df.groupby(['Customer Age', 'Customer Gender'], as_index=False)['Average Order Value'].mean()\n",
    "\n",
    "# Display result\n",
    "print(grouped_avg.head())"
   ]
  },
  {
   "cell_type": "code",
   "execution_count": 13,
   "id": "ae486388-e8d6-497d-b4b3-f884534779a2",
   "metadata": {},
   "outputs": [
    {
     "name": "stdout",
     "output_type": "stream",
     "text": [
      "    Customer Age Customer Gender  Average Order Value\n",
      "91            63            Male          1422.551004\n",
      "92            64          Female          1534.687687\n",
      "93            64            Male          1491.927786\n",
      "94            65          Female          1324.915474\n",
      "95            65            Male          1504.950776\n"
     ]
    }
   ],
   "source": [
    "print(grouped_avg.tail())"
   ]
  },
  {
   "cell_type": "code",
   "execution_count": null,
   "id": "581123fc-acba-4cdf-b934-faf91162d562",
   "metadata": {},
   "outputs": [],
   "source": [
    "\n"
   ]
  },
  {
   "cell_type": "code",
   "execution_count": 20,
   "id": "33b194ad-849b-4644-adc5-6d8b5db27124",
   "metadata": {},
   "outputs": [],
   "source": [
    "from sklearn.model_selection import train_test_split\n",
    "from sklearn.preprocessing import LabelEncoder\n",
    "\n",
    "# Encode 'Customer Gender'\n",
    "le = LabelEncoder()\n",
    "grouped_avg['Customer Gender'] = le.fit_transform(grouped_avg['Customer Gender'])\n",
    "\n",
    "# Features and target\n",
    "X = grouped_avg[['Customer Age', 'Customer Gender']]\n",
    "y = grouped_avg['Average Order Value']\n",
    "\n",
    "# Train-test split\n",
    "X_train, X_test, y_train, y_test = train_test_split(X, y, test_size=0.2, random_state=42)\n"
   ]
  },
  {
   "cell_type": "code",
   "execution_count": 19,
   "id": "c57d633d-3bf0-4ca7-b8d0-9fbc8b3c802b",
   "metadata": {},
   "outputs": [],
   "source": [
    "from sklearn.linear_model import LinearRegression, Ridge, Lasso\n",
    "from sklearn.tree import DecisionTreeRegressor\n",
    "from sklearn.ensemble import RandomForestRegressor\n",
    "\n",
    "models = {\n",
    "    'Linear Regression': LinearRegression(),\n",
    "    'Ridge Regression': Ridge(),\n",
    "    'Lasso Regression': Lasso(),\n",
    "    'Decision Tree': DecisionTreeRegressor(),\n",
    "    'Random Forest': RandomForestRegressor()\n",
    "}\n",
    "\n",
    "# To store model scores\n",
    "results = {}\n"
   ]
  },
  {
   "cell_type": "code",
   "execution_count": 16,
   "id": "f5def32d-9746-420b-a91f-9eeaa4449b98",
   "metadata": {},
   "outputs": [
    {
     "name": "stdout",
     "output_type": "stream",
     "text": [
      "                   Train MAE    Test MAE  Train R2   Test R2\n",
      "Linear Regression  73.967362   54.448540  0.020137 -0.101981\n",
      "Ridge Regression   73.968005   54.454251  0.020122 -0.103783\n",
      "Lasso Regression   74.080078   54.531810  0.019743 -0.111634\n",
      "Decision Tree       0.000000  105.401031  1.000000 -2.360470\n",
      "Random Forest      37.697627   85.029889  0.779379 -1.411600\n"
     ]
    }
   ],
   "source": [
    "from sklearn.metrics import mean_absolute_error, r2_score\n",
    "\n",
    "for name, model in models.items():\n",
    "    model.fit(X_train, y_train)\n",
    "    y_pred_train = model.predict(X_train)\n",
    "    y_pred_test = model.predict(X_test)\n",
    "\n",
    "    results[name] = {\n",
    "        'Train MAE': mean_absolute_error(y_train, y_pred_train),\n",
    "        'Test MAE': mean_absolute_error(y_test, y_pred_test),\n",
    "        'Train R2': r2_score(y_train, y_pred_train),\n",
    "        'Test R2': r2_score(y_test, y_pred_test)\n",
    "    }\n",
    "\n",
    "# Display results\n",
    "import pandas as pd\n",
    "results_df = pd.DataFrame(results).T\n",
    "print(results_df)\n"
   ]
  },
  {
   "cell_type": "code",
   "execution_count": 21,
   "id": "f01d28ce-9aa9-4fa0-bb64-e82f94c35475",
   "metadata": {},
   "outputs": [
    {
     "name": "stdout",
     "output_type": "stream",
     "text": [
      "Model saved as 'best_model.pkl'\n"
     ]
    }
   ],
   "source": [
    "import pickle\n",
    "\n",
    "# Save the model\n",
    "best_model = models['Random Forest']\n",
    "with open('best_model.pkl', 'wb') as f:\n",
    "    pickle.dump(best_model, f)\n",
    "\n",
    "print(\"Model saved as 'best_model.pkl'\")\n"
   ]
  },
  {
   "cell_type": "code",
   "execution_count": 18,
   "id": "b8a00cc4-037d-4370-871b-c1db6139bca1",
   "metadata": {},
   "outputs": [
    {
     "name": "stdout",
     "output_type": "stream",
     "text": [
      "Prediction: [1407.73995348]\n"
     ]
    },
    {
     "name": "stderr",
     "output_type": "stream",
     "text": [
      "C:\\Users\\User\\anaconda3\\Lib\\site-packages\\sklearn\\base.py:493: UserWarning: X does not have valid feature names, but RandomForestRegressor was fitted with feature names\n",
      "  warnings.warn(\n"
     ]
    }
   ],
   "source": [
    "# Load model\n",
    "with open('best_model.pkl', 'rb') as f:\n",
    "    loaded_model = pickle.load(f)\n",
    "\n",
    "# Predict\n",
    "prediction = loaded_model.predict([[30, 1]])  \n",
    "print(\"Prediction:\", prediction)\n"
   ]
  },
  {
   "cell_type": "code",
   "execution_count": null,
   "id": "015576f5-1b67-4855-a313-855e0e04d15d",
   "metadata": {},
   "outputs": [],
   "source": []
  }
 ],
 "metadata": {
  "kernelspec": {
   "display_name": "Python [conda env:base] *",
   "language": "python",
   "name": "conda-base-py"
  },
  "language_info": {
   "codemirror_mode": {
    "name": "ipython",
    "version": 3
   },
   "file_extension": ".py",
   "mimetype": "text/x-python",
   "name": "python",
   "nbconvert_exporter": "python",
   "pygments_lexer": "ipython3",
   "version": "3.12.7"
  }
 },
 "nbformat": 4,
 "nbformat_minor": 5
}
